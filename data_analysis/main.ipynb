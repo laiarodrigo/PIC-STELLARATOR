{
 "cells": [
  {
   "cell_type": "code",
   "execution_count": 2,
   "metadata": {},
   "outputs": [
    {
     "ename": "ModuleNotFoundError",
     "evalue": "No module named 'seaborn'",
     "output_type": "error",
     "traceback": [
      "\u001b[0;31m---------------------------------------------------------------------------\u001b[0m",
      "\u001b[0;31mModuleNotFoundError\u001b[0m                       Traceback (most recent call last)",
      "Cell \u001b[0;32mIn[2], line 9\u001b[0m\n\u001b[1;32m      7\u001b[0m \u001b[38;5;28;01mfrom\u001b[39;00m \u001b[38;5;21;01msklearn\u001b[39;00m\u001b[38;5;21;01m.\u001b[39;00m\u001b[38;5;21;01mpreprocessing\u001b[39;00m \u001b[38;5;28;01mimport\u001b[39;00m StandardScaler, RobustScaler, MinMaxScaler, Normalizer\n\u001b[1;32m      8\u001b[0m \u001b[38;5;28;01mfrom\u001b[39;00m \u001b[38;5;21;01msklearn\u001b[39;00m\u001b[38;5;21;01m.\u001b[39;00m\u001b[38;5;21;01mmodel_selection\u001b[39;00m \u001b[38;5;28;01mimport\u001b[39;00m train_test_split, GridSearchCV\n\u001b[0;32m----> 9\u001b[0m \u001b[38;5;28;01mimport\u001b[39;00m \u001b[38;5;21;01mseaborn\u001b[39;00m \u001b[38;5;28;01mas\u001b[39;00m \u001b[38;5;21;01msns\u001b[39;00m\n\u001b[1;32m     10\u001b[0m \u001b[38;5;28;01mimport\u001b[39;00m \u001b[38;5;21;01mmatplotlib\u001b[39;00m\u001b[38;5;21;01m.\u001b[39;00m\u001b[38;5;21;01mpyplot\u001b[39;00m \u001b[38;5;28;01mas\u001b[39;00m \u001b[38;5;21;01mplt\u001b[39;00m\n\u001b[1;32m     11\u001b[0m \u001b[38;5;28;01mfrom\u001b[39;00m \u001b[38;5;21;01msklearn\u001b[39;00m\u001b[38;5;21;01m.\u001b[39;00m\u001b[38;5;21;01mensemble\u001b[39;00m \u001b[38;5;28;01mimport\u001b[39;00m HistGradientBoostingRegressor\n",
      "\u001b[0;31mModuleNotFoundError\u001b[0m: No module named 'seaborn'"
     ]
    }
   ],
   "source": [
    "import pandas as pd\n",
    "\n",
    "import numpy as np\n",
    "import sqlite3\n",
    "from simsopt.mhd import Vmec\n",
    "from simsopt.mhd import QuasisymmetryRatioResidual\n",
    "from sklearn.preprocessing import StandardScaler, RobustScaler, MinMaxScaler, Normalizer\n",
    "from sklearn.model_selection import train_test_split, GridSearchCV\n",
    "import seaborn as sns\n",
    "import matplotlib.pyplot as plt\n",
    "from sklearn.ensemble import HistGradientBoostingRegressor\n",
    "from sklearn.metrics import mean_squared_error\n",
    "from xgboost import XGBRegressor\n",
    "from xgboost.callback import EarlyStopping"
   ]
  },
  {
   "cell_type": "markdown",
   "metadata": {},
   "source": [
    "# Loading Data"
   ]
  },
  {
   "cell_type": "code",
   "execution_count": null,
   "metadata": {},
   "outputs": [
    {
     "ename": "",
     "evalue": "",
     "output_type": "error",
     "traceback": [
      "\u001b[1;31mRunning cells with '/bin/python3.10' requires the ipykernel package.\n",
      "\u001b[1;31mRun the following command to install 'ipykernel' into the Python environment. \n",
      "\u001b[1;31mCommand: '/bin/python3.10 -m pip install ipykernel -U --user --force-reinstall'"
     ]
    }
   ],
   "source": [
    "conn = sqlite3.connect('../data/nfp2/nfp2.db')  # Adjust the path to your database file\n",
    "\n",
    "# Step 2 & 3: Query the database and load the data into a pandas DataFrame\n",
    "query = \"SELECT * FROM stellarators\"  # Adjust your query as needed\n",
    "data_df = pd.read_sql_query(query, conn)"
   ]
  },
  {
   "cell_type": "markdown",
   "metadata": {},
   "source": [
    "# Creating scaled and not scaled variables"
   ]
  },
  {
   "cell_type": "code",
   "execution_count": null,
   "metadata": {},
   "outputs": [
    {
     "ename": "",
     "evalue": "",
     "output_type": "error",
     "traceback": [
      "\u001b[1;31mRunning cells with '/bin/python3.10' requires the ipykernel package.\n",
      "\u001b[1;31mRun the following command to install 'ipykernel' into the Python environment. \n",
      "\u001b[1;31mCommand: '/bin/python3.10 -m pip install ipykernel -U --user --force-reinstall'"
     ]
    }
   ],
   "source": [
    "data_df_clean = data_df.dropna(subset=['quasisymmetry'])\n",
    "X = data_df_clean[['rbc_1_0', 'rbc_m1_1', 'rbc_0_1', 'rbc_1_1','zbs_1_0', 'zbs_m1_1', 'zbs_0_1', 'zbs_1_1']] \n",
    "Y = data_df_clean[['quasisymmetry', 'quasiisodynamic', 'rotational_transform', 'inverse_aspect_ratio', 'mean_local_magnetic_shear', 'vacuum_magnetic_well', 'maximum_elongation', 'mirror_ratio']] \n",
    "\n",
    "X_train, X_val_test, Y_train, Y_val_test = train_test_split(X, Y, test_size=0.2, random_state=42)\n",
    "\n",
    "X_validation, X_test, Y_validation, Y_test = train_test_split(X_val_test, Y_val_test, test_size=0.5, random_state=42)\n",
    "\n",
    "\n",
    "y_to_train = Y_train['quasisymmetry']\n",
    "y_to_test = Y_test['quasisymmetry']\n",
    "y_to_validation = Y_validation['quasisymmetry']\n",
    "\n",
    "xscaler = StandardScaler()\n",
    "yscaler = StandardScaler()  # Using MinMaxScaler for Y as well\n",
    "\n",
    "# Assuming y_to_train and y_to_test are Series and need reshaping to fit the scaler\n",
    "Y_train_reshaped = y_to_train.values.reshape(-1, 1)\n",
    "Y_test_reshaped = y_to_test.values.reshape(-1, 1)\n",
    "Y_val_reshaped = y_to_validation.values.reshape(-1, 1)\n",
    "\n",
    "# Fit and transform the training data\n",
    "Y_train_scaled = yscaler.fit_transform(Y_train_reshaped)\n",
    "X_train_scaled = xscaler.fit_transform(X_train)\n",
    "\n",
    "# Transform the testing data (no fitting!)\n",
    "Y_test_scaled = yscaler.transform(Y_test_reshaped)\n",
    "X_test_scaled = xscaler.transform(X_test)\n",
    "\n",
    "X_validation_scaled = xscaler.transform(X_validation)\n",
    "Y_validation_scaled = yscaler.transform(y_to_validation.values.reshape(-1, 1))\n",
    "\n",
    "Y_train_scaled_1d = Y_train_scaled.ravel()\n",
    "Y_validation_scaled_1d = Y_validation_scaled.ravel()\n"
   ]
  },
  {
   "cell_type": "markdown",
   "metadata": {},
   "source": [
    "# Testing HistGradientBoostingRegressor \n",
    "\n",
    "* Not scaled -> 1st Cell"
   ]
  },
  {
   "cell_type": "code",
   "execution_count": null,
   "metadata": {},
   "outputs": [
    {
     "ename": "",
     "evalue": "",
     "output_type": "error",
     "traceback": [
      "\u001b[1;31mRunning cells with '/bin/python3.10' requires the ipykernel package.\n",
      "\u001b[1;31mRun the following command to install 'ipykernel' into the Python environment. \n",
      "\u001b[1;31mCommand: '/bin/python3.10 -m pip install ipykernel -U --user --force-reinstall'"
     ]
    }
   ],
   "source": [
    "# Define a grid of hyperparameters to search\n",
    "param_grid = {\n",
    "    'max_iter': [100, 200],\n",
    "    'learning_rate': [0.01, 0.1],\n",
    "    'max_depth': [3, 5, None],\n",
    "}\n",
    "\n",
    "model = HistGradientBoostingRegressor()\n",
    "\n",
    "# Setup the GridSearchCV \n",
    "grid_search = GridSearchCV(model, param_grid, cv=5, scoring='neg_mean_squared_error') # MAE\n",
    "\n",
    "# Perform the grid search with cross-validation\n",
    "grid_search.fit(X_train, y_to_train)\n",
    "\n",
    "# Best model after grid search\n",
    "best_model = grid_search.best_estimator_\n",
    "\n",
    "# Predict on the testing set\n",
    "Y_pred = best_model.predict(X_test)\n",
    "\n",
    "print(Y_pred.shape, y_to_test.shape)\n",
    "\n",
    "# Calculate MSE for the test set\n",
    "mse = mean_squared_error(y_to_test, Y_pred)\n",
    "\n",
    "print(f\"Best hyperparameters: {grid_search.best_params_}\")\n",
    "print(f\"Test MSE: {mse}\")"
   ]
  },
  {
   "cell_type": "markdown",
   "metadata": {},
   "source": [
    "* Scaled -> 2nd Cell "
   ]
  },
  {
   "cell_type": "code",
   "execution_count": null,
   "metadata": {},
   "outputs": [
    {
     "ename": "",
     "evalue": "",
     "output_type": "error",
     "traceback": [
      "\u001b[1;31mRunning cells with '/bin/python3.10' requires the ipykernel package.\n",
      "\u001b[1;31mRun the following command to install 'ipykernel' into the Python environment. \n",
      "\u001b[1;31mCommand: '/bin/python3.10 -m pip install ipykernel -U --user --force-reinstall'"
     ]
    }
   ],
   "source": [
    "# Doing the same but with scaling\n",
    "grid_search.fit(X_train_scaled, Y_train_scaled_1d)\n",
    "\n",
    "# Best model after grid search\n",
    "best_model = grid_search.best_estimator_\n",
    "\n",
    "# Predict on the testing set\n",
    "Y_pred_scaled = best_model.predict(X_test_scaled)\n",
    "\n",
    "\n",
    "# Calculate MSE for the test set\n",
    "mse = mean_squared_error(Y_test_scaled, Y_pred_scaled)\n",
    "\n",
    "print(f\"Best hyperparameters: {grid_search.best_params_}\")\n",
    "print(f\"Test MSE: {mse}\")"
   ]
  },
  {
   "cell_type": "markdown",
   "metadata": {},
   "source": [
    "## Testing LightGBMLSS"
   ]
  },
  {
   "cell_type": "code",
   "execution_count": null,
   "metadata": {},
   "outputs": [
    {
     "ename": "",
     "evalue": "",
     "output_type": "error",
     "traceback": [
      "\u001b[1;31mRunning cells with '/bin/python3.10' requires the ipykernel package.\n",
      "\u001b[1;31mRun the following command to install 'ipykernel' into the Python environment. \n",
      "\u001b[1;31mCommand: '/bin/python3.10 -m pip install ipykernel -U --user --force-reinstall'"
     ]
    }
   ],
   "source": [
    "import lightgbm as lgb\n",
    "\n",
    "train_data = lgb.Dataset(X_train_scaled, label=Y_train_scaled.ravel())\n",
    "val_data = lgb.Dataset(X_validation_scaled, label=Y_validation_scaled.ravel())\n",
    "\n",
    "# Define parameters for LightGBM\n",
    "params = {\n",
    "    'objective': 'regression',\n",
    "    'boosting_type': 'gbdt',   # Use Gradient Boosting Decision Tree\n",
    "    'metric': 'rmse',           # Mean Squared Error as the evaluation metric\n",
    "    'verbosity': 0             # Set verbosity to 0 to suppress unnecessary messages\n",
    "}\n",
    "\n",
    "# Prepare an empty dictionary to store evaluation results\n",
    "evals_result = {}\n",
    "\n",
    "# Train the LightGBM model with record_evaluation callback\n",
    "num_rounds = 1000  # Number of boosting rounds\n",
    "early_stopping_rounds = 500  # Early stopping rounds to prevent overfitting\n",
    "valid_sets = [train_data, val_data]\n",
    "model = lgb.train(params, train_data, num_boost_round=num_rounds, valid_sets=valid_sets, \n",
    "                  callbacks=[lgb.record_evaluation(evals_result)])\n",
    "\n",
    "print(lgb.record_evaluation(evals_result))\n",
    "# Predict on the test set\n",
    "Y_pred_scaled = model.predict(X_test_scaled, num_iteration=model.best_iteration)\n",
    "\n",
    "# Inverse scaling on the predicted values if necessary\n",
    "# y_pred = yscaler.inverse_transform(Y_pred_scaled.reshape(-1, 1))\n",
    "\n",
    "# Calculate Mean Squared Error\n",
    "mse = mean_squared_error(Y_test_scaled, Y_pred_scaled)\n",
    "print(\"Mean Squared Error:\", mse)\n",
    "\n",
    "\n",
    "# Plot metrics using the recorded evaluation results\n",
    "lgb.plot_metric(evals_result)\n",
    "\n"
   ]
  },
  {
   "cell_type": "markdown",
   "metadata": {},
   "source": [
    "## Testing  XGBoostLSS"
   ]
  },
  {
   "cell_type": "code",
   "execution_count": null,
   "metadata": {},
   "outputs": [
    {
     "ename": "",
     "evalue": "",
     "output_type": "error",
     "traceback": [
      "\u001b[1;31mRunning cells with '/bin/python3.10' requires the ipykernel package.\n",
      "\u001b[1;31mRun the following command to install 'ipykernel' into the Python environment. \n",
      "\u001b[1;31mCommand: '/bin/python3.10 -m pip install ipykernel -U --user --force-reinstall'"
     ]
    }
   ],
   "source": [
    "# Define the XGBoost regressor\n",
    "model = XGBRegressor(\n",
    "    objective='reg:squarederror',  # Specify squared error as the objective for regression\n",
    "    tree_method='hist',            # Use 'hist' method for faster training\n",
    "    eval_metric='rmse',            # Root Mean Squared Error as the evaluation metric\n",
    "    booster='gbtree',              # Use tree-based model\n",
    "    verbosity=0,                    # Set verbosity to 0 to suppress unnecessary messages\n",
    "    device = 'cuda'\n",
    ")\n",
    "\n",
    "# Train the model with early stopping\n",
    "model.fit(X_train_scaled, Y_train_scaled,\n",
    "    eval_set=[(X_train_scaled, Y_train_scaled), (X_validation_scaled, Y_validation_scaled)], \n",
    "    early_stopping_rounds=100,     # Stop if no improvement in 50 rounds\n",
    "    verbose=False,                                  \n",
    ")\n",
    "\n",
    "# Predict on the test set\n",
    "y_pred_scaled = model.predict(X_test_scaled)\n",
    "\n",
    "# Calculate Mean Squared Error\n",
    "mse = mean_squared_error(Y_test_scaled, y_pred_scaled)\n",
    "print(\"Mean Squared Error:\", mse)\n",
    "\n",
    "results = model.evals_result()\n",
    "print(results['validation_1'])\n",
    "# plot learning curves\n",
    "plt.plot(results['validation_0']['rmse'], label='Train RMSE')\n",
    "plt.plot(results['validation_1']['rmse'], label='Validation RMSE')\n",
    "plt.legend()\n",
    "plt.show()\n",
    "\n"
   ]
  },
  {
   "cell_type": "markdown",
   "metadata": {},
   "source": [
    "# Using TSNE to try to visualize the problem"
   ]
  },
  {
   "cell_type": "code",
   "execution_count": null,
   "metadata": {},
   "outputs": [
    {
     "ename": "",
     "evalue": "",
     "output_type": "error",
     "traceback": [
      "\u001b[1;31mRunning cells with '/bin/python3.10' requires the ipykernel package.\n",
      "\u001b[1;31mRun the following command to install 'ipykernel' into the Python environment. \n",
      "\u001b[1;31mCommand: '/bin/python3.10 -m pip install ipykernel -U --user --force-reinstall'"
     ]
    }
   ],
   "source": [
    "from sklearn.manifold import TSNE\n",
    "\n",
    "# Apply t-SNE to the scaled training features\n",
    "truncated_df = data_df_clean.truncate(before = 100, after = 10000)\n",
    "\n",
    "features = truncated_df[['rbc_1_0', 'rbc_m1_1', 'rbc_0_1', 'rbc_1_1', 'zbs_1_0', 'zbs_m1_1', 'zbs_0_1', 'zbs_1_1']]\n",
    "quasisymmetry = truncated_df['quasisymmetry']  # This is the 9th dimension used for coloring\n",
    "\n",
    "# Apply t-SNE to the features to reduce to 2D for visualization\n",
    "tsne = TSNE(n_components=2, random_state=9, perplexity=50)\n",
    "features_reduced = tsne.fit_transform(features)\n",
    "\n",
    "# Plotting\n",
    "plt.figure(figsize=(10, 8))\n",
    "scatter = plt.scatter(features_reduced[:, 0], features_reduced[:, 1], c=quasisymmetry, cmap='viridis', alpha=0.6)\n",
    "plt.colorbar(scatter, label='Quasisymmetry Value')\n",
    "plt.title('t-SNE plot of the first 8 dimensions colored by Quasisymmetry')\n",
    "plt.xlabel('t-SNE Feature 1')\n",
    "plt.ylabel('t-SNE Feature 2')\n",
    "plt.show()"
   ]
  },
  {
   "cell_type": "code",
   "execution_count": null,
   "metadata": {},
   "outputs": [
    {
     "ename": "",
     "evalue": "",
     "output_type": "error",
     "traceback": [
      "\u001b[1;31mRunning cells with '/bin/python3.10' requires the ipykernel package.\n",
      "\u001b[1;31mRun the following command to install 'ipykernel' into the Python environment. \n",
      "\u001b[1;31mCommand: '/bin/python3.10 -m pip install ipykernel -U --user --force-reinstall'"
     ]
    }
   ],
   "source": [
    "# Re-importing necessary libraries after reset\n",
    "from sklearn.manifold import TSNE\n",
    "import matplotlib.pyplot as plt\n",
    "import numpy as np\n",
    "from mpl_toolkits.mplot3d import Axes3D\n",
    "import pandas as pd\n",
    "\n",
    "truncated_df = data_df_clean.truncate(before = 100, after = 10000)\n",
    "\n",
    "features_dummy = truncated_df[['rbc_1_0', 'rbc_m1_1', 'rbc_0_1', 'rbc_1_1', 'zbs_1_0', 'zbs_m1_1', 'zbs_0_1', 'zbs_1_1']]\n",
    "quasisymmetry_dummy = truncated_df['quasisymmetry']  # This is the 9th dimension used for coloring\n",
    "\n",
    "# Apply t-SNE to the features to reduce to 3D for visualization\n",
    "tsne_dummy = TSNE(n_components=3, random_state=9, perplexity=50)\n",
    "features_reduced_dummy = tsne_dummy.fit_transform(features_dummy)\n",
    "\n",
    "# 3D plotting\n",
    "fig_dummy = plt.figure(figsize=(10, 8))\n",
    "ax_dummy = fig_dummy.add_subplot(111, projection='3d')\n",
    "\n",
    "# Scatter plot for 3D t-SNE components\n",
    "scatter_dummy = ax_dummy.scatter(features_reduced_dummy[:, 0], features_reduced_dummy[:, 1], features_reduced_dummy[:, 2], c=quasisymmetry_dummy, cmap='viridis', alpha=0.6)\n",
    "fig_dummy.colorbar(scatter_dummy, label='Quasisymmetry Value')\n",
    "\n",
    "plt.title('3D t-SNE plot of the first 8 dimensions colored by Quasisymmetry (Dummy Data)')\n",
    "ax_dummy.set_xlabel('t-SNE Feature 1')\n",
    "ax_dummy.set_ylabel('t-SNE Feature 2')\n",
    "ax_dummy.set_zlabel('t-SNE Feature 3')\n",
    "plt.show()\n"
   ]
  },
  {
   "cell_type": "code",
   "execution_count": null,
   "metadata": {},
   "outputs": [
    {
     "ename": "",
     "evalue": "",
     "output_type": "error",
     "traceback": [
      "\u001b[1;31mRunning cells with '/bin/python3.10' requires the ipykernel package.\n",
      "\u001b[1;31mRun the following command to install 'ipykernel' into the Python environment. \n",
      "\u001b[1;31mCommand: '/bin/python3.10 -m pip install ipykernel -U --user --force-reinstall'"
     ]
    }
   ],
   "source": []
  }
 ],
 "metadata": {
  "kernelspec": {
   "display_name": "Python 3",
   "language": "python",
   "name": "python3"
  },
  "language_info": {
   "codemirror_mode": {
    "name": "ipython",
    "version": 3
   },
   "file_extension": ".py",
   "mimetype": "text/x-python",
   "name": "python",
   "nbconvert_exporter": "python",
   "pygments_lexer": "ipython3",
   "version": "3.8.10"
  }
 },
 "nbformat": 4,
 "nbformat_minor": 2
}
