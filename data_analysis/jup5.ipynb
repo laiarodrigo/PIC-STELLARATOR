{
 "cells": [
  {
   "cell_type": "code",
   "execution_count": 1,
   "metadata": {},
   "outputs": [],
   "source": [
    "import sqlite3\n",
    "import pandas as pd\n",
    "\n",
    "conn = sqlite3.connect('../data/nfp2/nfp2.db')  # Adjust the path to your database file\n",
    "\n",
    "# Step 2 & 3: Query the database and load the data into a pandas DataFrame\n",
    "query = \"SELECT * FROM stellarators\"  # Adjust your query as needed\n",
    "data_df = pd.read_sql_query(query, conn)"
   ]
  },
  {
   "cell_type": "code",
   "execution_count": 2,
   "metadata": {},
   "outputs": [
    {
     "name": "stdout",
     "output_type": "stream",
     "text": [
      "(762522, 8)\n",
      "(762522,)\n"
     ]
    }
   ],
   "source": [
    "from sklearn.model_selection import train_test_split, GridSearchCV\n",
    "\n",
    "data_df_clean = data_df.dropna(subset=['quasisymmetry'])\n",
    "\n",
    "X = data_df_clean[['rbc_1_0', 'rbc_m1_1', 'rbc_0_1', 'rbc_1_1','zbs_1_0', 'zbs_m1_1', 'zbs_0_1', 'zbs_1_1']] \n",
    "Y = data_df_clean[['quasisymmetry', 'quasiisodynamic', 'rotational_transform', 'inverse_aspect_ratio', 'mean_local_magnetic_shear', 'vacuum_magnetic_well', 'maximum_elongation', 'mirror_ratio']]\n",
    "\n",
    "target = Y['quasisymmetry']\n",
    "features = X\n",
    "\n",
    "X_train, X_test, Y_train, Y_test = train_test_split(features, target, test_size=0.2, random_state=42)\n",
    "\n",
    "print(features.shape)\n",
    "print(target.shape)"
   ]
  },
  {
   "cell_type": "code",
   "execution_count": 3,
   "metadata": {},
   "outputs": [
    {
     "name": "stderr",
     "output_type": "stream",
     "text": [
      "/home/rofarate/PIC-STELLARATOR/.venv/lib/python3.10/site-packages/tqdm/auto.py:21: TqdmWarning: IProgress not found. Please update jupyter and ipywidgets. See https://ipywidgets.readthedocs.io/en/stable/user_install.html\n",
      "  from .autonotebook import tqdm as notebook_tqdm\n",
      "[I 2024-05-29 23:49:16,838] A new study created in memory with name: LightGBMLSS Hyper-Parameter Optimization\n",
      "  0%|          | 0/300 [00:00<?, ?it/s]/home/rofarate/PIC-STELLARATOR/.venv/lib/python3.10/site-packages/lightgbm/basic.py:294: RuntimeWarning: overflow encountered in cast\n"
     ]
    },
    {
     "ename": "",
     "evalue": "",
     "output_type": "error",
     "traceback": [
      "\u001b[1;31mThe Kernel crashed while executing code in the current cell or a previous cell. \n",
      "\u001b[1;31mPlease review the code in the cell(s) to identify a possible cause of the failure. \n",
      "\u001b[1;31mClick <a href='https://aka.ms/vscodeJupyterKernelCrash'>here</a> for more info. \n",
      "\u001b[1;31mView Jupyter <a href='command:jupyter.viewOutput'>log</a> for further details."
     ]
    }
   ],
   "source": [
    "from lightgbmlss.model import *\n",
    "from lightgbmlss.distributions.Weibull import *\n",
    "import lightgbm as lgb\n",
    "import numpy as np\n",
    "from lightgbmlss.distributions.Gaussian import *\n",
    "from lightgbmlss.distributions.Mixture import *\n",
    "from lightgbmlss.distributions.mixture_distribution_utils import MixtureDistributionClass\n",
    "\n",
    "from sklearn import datasets\n",
    "from sklearn.model_selection import train_test_split\n",
    "import matplotlib.pyplot as plt\n",
    "import seaborn as sns\n",
    "figure_size = (10,5)\n",
    "import plotnine\n",
    "from plotnine import *\n",
    "plotnine.options.figure_size = figure_size\n",
    "\n",
    "X_train_subset = X_train# Ver quantis\n",
    "Y_train_subset = Y_train\n",
    "\n",
    "# Create the Dataset with max_bin parameter specified\n",
    "dtrain = lgb.Dataset(X_train_subset, label=Y_train_subset.values, params={'max_bin': 500})\n",
    "\n",
    "lgblss = LightGBMLSS(\n",
    "    Mixture(\n",
    "        Gaussian(response_fn=\"softplus\", stabilization=\"L2\"), \n",
    "        M = 4,\n",
    "        tau=1.0,\n",
    "        hessian_mode=\"individual\",\n",
    "    )\n",
    ")\n",
    "\n",
    "# Define the parameter dictionary without max_bin\n",
    "param_dict = {\n",
    "    \"max_depth\": [\"int\", {\"low\": 1, \"high\": 25, \"log\": False}],\n",
    "    \"num_leaves\": [\"int\", {\"low\": 2, \"high\": 100, \"log\": True}],\n",
    "    \"min_data_in_leaf\": [\"int\", {\"low\": 20, \"high\": 500, \"log\": False}],\n",
    "    \"min_gain_to_split\": [\"float\", {\"low\": 0.01, \"high\": 40, \"log\": True}],\n",
    "    \"min_sum_hessian_in_leaf\": [\"float\", {\"low\": 0.01, \"high\": 100, \"log\": True}],\n",
    "    \"subsample\": [\"float\", {\"low\": 0.5, \"high\": 1.0, \"log\": False}],\n",
    "    \"subsample_freq\": [\"int\", {\"low\": 1, \"high\": 20, \"log\": False}],\n",
    "    \"feature_fraction\": [\"float\", {\"low\": 0.3, \"high\": 1.0, \"log\": False}],\n",
    "    \"boosting_type\": [\"categorical\", [\"dart\", \"goss\", \"gbdt\"]],\n",
    "    \"learning_rate\": [\"float\", {\"low\": 0.1, \"high\": 0.2, \"log\": True}],\n",
    "    # \"lambda_l1\" and \"lambda_l2\" are commented out as before\n",
    "    \"max_delta_step\": [\"float\", {\"low\": 0, \"high\": 1, \"log\": False}],\n",
    "    \"num_boost_round\": [\"int\", {\"low\": 5, \"high\": 1000, \"log\": True}],\n",
    "    \"feature_pre_filter\": [\"categorical\", [False]],\n",
    "    \"boosting\": [\"categorical\", [\"dart\"]]\n",
    "}\n",
    "\n",
    "# Set a seed for reproducibility\n",
    "np.random.seed(123)\n",
    "\n",
    "# Perform hyperparameter optimization\n",
    "opt_param = lgblss.hyper_opt(\n",
    "    param_dict,\n",
    "    dtrain,\n",
    "    #num_boost_round=30,\n",
    "    nfold=5,\n",
    "    early_stopping_rounds=100,\n",
    "    max_minutes=60,\n",
    "    n_trials=300,\n",
    "    silence=False,\n",
    "    seed=13,\n",
    "    hp_seed=123\n",
    ")"
   ]
  },
  {
   "cell_type": "code",
   "execution_count": null,
   "metadata": {},
   "outputs": [],
   "source": []
  }
 ],
 "metadata": {
  "kernelspec": {
   "display_name": ".venv",
   "language": "python",
   "name": "python3"
  },
  "language_info": {
   "codemirror_mode": {
    "name": "ipython",
    "version": 3
   },
   "file_extension": ".py",
   "mimetype": "text/x-python",
   "name": "python",
   "nbconvert_exporter": "python",
   "pygments_lexer": "ipython3",
   "version": "3.10.13"
  }
 },
 "nbformat": 4,
 "nbformat_minor": 2
}
